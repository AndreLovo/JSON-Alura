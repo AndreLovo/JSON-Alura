{
 "cells": [
  {
   "cell_type": "markdown",
   "id": "f2d11a23",
   "metadata": {},
   "source": [
    "# Ler um arquivo JSON com python e imprimir os dados em formato tabular\n",
    "\n",
    "Fonte: https://cursos.alura.com.br/forum/topico-ler-um-arquivo-json-com-python-e-imprimir-os-dados-em-formato-tabular-107166"
   ]
  },
  {
   "cell_type": "code",
   "execution_count": 1,
   "id": "89750c1e",
   "metadata": {},
   "outputs": [],
   "source": [
    "# Importar as bibliotecas necessárias\n",
    "import pandas as pd\n",
    "import json\n",
    "\n",
    "# Exemplo  de um dicionário que virará um arquivo .json\n",
    "dict = {\"students\": [{\"name\": \"Alan\", \"lastname\": \"Silva\", \"exam1\": 50, \"exam2\": 80, \"exam3\": 91},\n",
    "    {\"name\": \"Paula\", \"lastname\": \"Souza\", \"exam1\": 95, \"exam2\": 98, \"exam3\": 99}]\n",
    "    }\n",
    "\n",
    "# Criar uma função que escreve um arquivo .json\n",
    "def escrever_json(dados):\n",
    "    with open('meu_arquivo.json', 'w', encoding='utf8') as f:\n",
    "        json.dump(dados, f, ensure_ascii=False, sort_keys=True, indent=4, separators=(',', ':'))"
   ]
  },
  {
   "cell_type": "code",
   "execution_count": 2,
   "id": "d8e38b4d",
   "metadata": {},
   "outputs": [],
   "source": [
    "# Criar uma função que lê o arquivo .json\n",
    "def ler_json(arq_json):\n",
    "    with open(arq_json, 'r', encoding='utf8') as f:\n",
    "        return json.load(f)"
   ]
  },
  {
   "cell_type": "code",
   "execution_count": 3,
   "id": "54d969f9",
   "metadata": {},
   "outputs": [
    {
     "data": {
      "text/html": [
       "<div>\n",
       "<style scoped>\n",
       "    .dataframe tbody tr th:only-of-type {\n",
       "        vertical-align: middle;\n",
       "    }\n",
       "\n",
       "    .dataframe tbody tr th {\n",
       "        vertical-align: top;\n",
       "    }\n",
       "\n",
       "    .dataframe thead th {\n",
       "        text-align: right;\n",
       "    }\n",
       "</style>\n",
       "<table border=\"1\" class=\"dataframe\">\n",
       "  <thead>\n",
       "    <tr style=\"text-align: right;\">\n",
       "      <th></th>\n",
       "      <th>Valores</th>\n",
       "    </tr>\n",
       "  </thead>\n",
       "  <tbody>\n",
       "    <tr>\n",
       "      <th>exam1</th>\n",
       "      <td>50</td>\n",
       "    </tr>\n",
       "    <tr>\n",
       "      <th>exam2</th>\n",
       "      <td>80</td>\n",
       "    </tr>\n",
       "    <tr>\n",
       "      <th>exam3</th>\n",
       "      <td>91</td>\n",
       "    </tr>\n",
       "    <tr>\n",
       "      <th>lastname</th>\n",
       "      <td>Silva</td>\n",
       "    </tr>\n",
       "    <tr>\n",
       "      <th>name</th>\n",
       "      <td>Alan</td>\n",
       "    </tr>\n",
       "  </tbody>\n",
       "</table>\n",
       "</div>"
      ],
      "text/plain": [
       "         Valores\n",
       "exam1         50\n",
       "exam2         80\n",
       "exam3         91\n",
       "lastname   Silva\n",
       "name        Alan"
      ]
     },
     "execution_count": 3,
     "metadata": {},
     "output_type": "execute_result"
    }
   ],
   "source": [
    "# Chamar a função escreve_jason()\n",
    "escrever_json(dict)\n",
    "\n",
    "# Ler o arquivo .json e jogar na variável 'data'\n",
    "data = ler_json('meu_arquivo.json')\n",
    "\n",
    "# Pegar as chaves de dentro de 'students' e jogar na variável 'keys'\n",
    "keys = data['students'][0].keys()\n",
    "\n",
    "# Pegar os de dentro de 'students' e jogar na variável 'values'\n",
    "values = data['students'][0].values()\n",
    "\n",
    "# Finalmente, criar a tabela que você queria em um DataFrame\n",
    "df = pd.DataFrame(values, index=keys, columns=['Valores'])\n",
    "df"
   ]
  },
  {
   "cell_type": "code",
   "execution_count": null,
   "id": "dfa65452",
   "metadata": {},
   "outputs": [],
   "source": []
  }
 ],
 "metadata": {
  "kernelspec": {
   "display_name": "Python 3 (ipykernel)",
   "language": "python",
   "name": "python3"
  },
  "language_info": {
   "codemirror_mode": {
    "name": "ipython",
    "version": 3
   },
   "file_extension": ".py",
   "mimetype": "text/x-python",
   "name": "python",
   "nbconvert_exporter": "python",
   "pygments_lexer": "ipython3",
   "version": "3.8.10"
  }
 },
 "nbformat": 4,
 "nbformat_minor": 5
}
